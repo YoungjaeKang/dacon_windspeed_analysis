{
 "cells": [
  {
   "cell_type": "markdown",
   "id": "7d6ce880",
   "metadata": {},
   "source": [
    "# DATA LEAKAGE 조심!! 또 확인!!"
   ]
  },
  {
   "cell_type": "markdown",
   "id": "31256db5",
   "metadata": {},
   "source": [
    "# Import Libraries"
   ]
  },
  {
   "cell_type": "code",
   "execution_count": 4,
   "id": "97707103",
   "metadata": {},
   "outputs": [],
   "source": [
    "import pandas as pd\n",
    "import numpy as np\n",
    "\n",
    "import random\n",
    "import os\n",
    "\n",
    "import datetime\n",
    "\n",
    "import matplotlib.pyplot as plt\n",
    "import seaborn as sns\n",
    "\n",
    "%matplotlib inline\n",
    "\n",
    "import warnings\n",
    "warnings.filterwarnings('ignore')"
   ]
  },
  {
   "cell_type": "markdown",
   "id": "354e48b9",
   "metadata": {},
   "source": [
    "# Fixed Random Seed"
   ]
  },
  {
   "cell_type": "code",
   "execution_count": 5,
   "id": "4ca16856",
   "metadata": {},
   "outputs": [],
   "source": [
    "def seed_everything(seed):\n",
    "    random.seed(seed)\n",
    "    os.environ['PYTHONHASHSEED'] = str(seed)\n",
    "    np.random.seed(seed)\n",
    "\n",
    "seed_everything(42) # Seed 고정"
   ]
  },
  {
   "cell_type": "markdown",
   "id": "dbe0e4d5",
   "metadata": {},
   "source": [
    "# Load Dataset"
   ]
  },
  {
   "cell_type": "code",
   "execution_count": 6,
   "id": "eee13e84",
   "metadata": {},
   "outputs": [],
   "source": [
    "train = pd.read_csv('data/train.csv')\n",
    "test = pd.read_csv('data/test.csv')"
   ]
  },
  {
   "cell_type": "code",
   "execution_count": 7,
   "id": "fc6f094b",
   "metadata": {},
   "outputs": [
    {
     "data": {
      "text/html": [
       "<div>\n",
       "<style scoped>\n",
       "    .dataframe tbody tr th:only-of-type {\n",
       "        vertical-align: middle;\n",
       "    }\n",
       "\n",
       "    .dataframe tbody tr th {\n",
       "        vertical-align: top;\n",
       "    }\n",
       "\n",
       "    .dataframe thead th {\n",
       "        text-align: right;\n",
       "    }\n",
       "</style>\n",
       "<table border=\"1\" class=\"dataframe\">\n",
       "  <thead>\n",
       "    <tr style=\"text-align: right;\">\n",
       "      <th></th>\n",
       "      <th>ID</th>\n",
       "      <th>월</th>\n",
       "      <th>일</th>\n",
       "      <th>측정 시간대</th>\n",
       "      <th>섭씨 온도(°⁣C)</th>\n",
       "      <th>절대 온도(K)</th>\n",
       "      <th>이슬점 온도(°C)</th>\n",
       "      <th>상대 습도 (%)</th>\n",
       "      <th>대기압(mbar)</th>\n",
       "      <th>포화 증기압(mbar)</th>\n",
       "      <th>실제 증기압(mbar)</th>\n",
       "      <th>증기압 부족량(mbar)</th>\n",
       "      <th>수증기 함량 (g/kg)</th>\n",
       "      <th>공기 밀도 (g/m**3)</th>\n",
       "      <th>풍향 (deg)</th>\n",
       "      <th>풍속 (m/s)</th>\n",
       "    </tr>\n",
       "  </thead>\n",
       "  <tbody>\n",
       "    <tr>\n",
       "      <th>0</th>\n",
       "      <td>TRAIN_00000</td>\n",
       "      <td>7</td>\n",
       "      <td>2</td>\n",
       "      <td>저녁</td>\n",
       "      <td>13.97</td>\n",
       "      <td>287.78</td>\n",
       "      <td>9.84</td>\n",
       "      <td>76.1</td>\n",
       "      <td>992.08</td>\n",
       "      <td>15.98</td>\n",
       "      <td>12.16</td>\n",
       "      <td>3.82</td>\n",
       "      <td>7.66</td>\n",
       "      <td>1198.06</td>\n",
       "      <td>155.60</td>\n",
       "      <td>1.61</td>\n",
       "    </tr>\n",
       "    <tr>\n",
       "      <th>1</th>\n",
       "      <td>TRAIN_00001</td>\n",
       "      <td>8</td>\n",
       "      <td>21</td>\n",
       "      <td>오전</td>\n",
       "      <td>16.94</td>\n",
       "      <td>290.85</td>\n",
       "      <td>12.14</td>\n",
       "      <td>73.3</td>\n",
       "      <td>991.07</td>\n",
       "      <td>19.33</td>\n",
       "      <td>14.17</td>\n",
       "      <td>5.16</td>\n",
       "      <td>8.94</td>\n",
       "      <td>1183.67</td>\n",
       "      <td>177.00</td>\n",
       "      <td>1.68</td>\n",
       "    </tr>\n",
       "    <tr>\n",
       "      <th>2</th>\n",
       "      <td>TRAIN_00002</td>\n",
       "      <td>11</td>\n",
       "      <td>1</td>\n",
       "      <td>저녁</td>\n",
       "      <td>9.76</td>\n",
       "      <td>283.84</td>\n",
       "      <td>5.40</td>\n",
       "      <td>74.2</td>\n",
       "      <td>988.71</td>\n",
       "      <td>12.10</td>\n",
       "      <td>8.98</td>\n",
       "      <td>3.12</td>\n",
       "      <td>5.67</td>\n",
       "      <td>1213.22</td>\n",
       "      <td>146.20</td>\n",
       "      <td>0.73</td>\n",
       "    </tr>\n",
       "    <tr>\n",
       "      <th>3</th>\n",
       "      <td>TRAIN_00003</td>\n",
       "      <td>12</td>\n",
       "      <td>28</td>\n",
       "      <td>오전</td>\n",
       "      <td>5.27</td>\n",
       "      <td>277.30</td>\n",
       "      <td>2.71</td>\n",
       "      <td>83.5</td>\n",
       "      <td>1014.25</td>\n",
       "      <td>8.89</td>\n",
       "      <td>7.43</td>\n",
       "      <td>1.47</td>\n",
       "      <td>4.57</td>\n",
       "      <td>1265.48</td>\n",
       "      <td>264.50</td>\n",
       "      <td>2.71</td>\n",
       "    </tr>\n",
       "    <tr>\n",
       "      <th>4</th>\n",
       "      <td>TRAIN_00004</td>\n",
       "      <td>9</td>\n",
       "      <td>26</td>\n",
       "      <td>오후</td>\n",
       "      <td>17.35</td>\n",
       "      <td>290.86</td>\n",
       "      <td>12.68</td>\n",
       "      <td>74.0</td>\n",
       "      <td>995.77</td>\n",
       "      <td>19.84</td>\n",
       "      <td>14.68</td>\n",
       "      <td>5.16</td>\n",
       "      <td>9.22</td>\n",
       "      <td>1187.40</td>\n",
       "      <td>19.34</td>\n",
       "      <td>1.00</td>\n",
       "    </tr>\n",
       "  </tbody>\n",
       "</table>\n",
       "</div>"
      ],
      "text/plain": [
       "            ID   월   일 측정 시간대  섭씨 온도(°⁣C)  절대 온도(K)  이슬점 온도(°C)  상대 습도 (%)  \\\n",
       "0  TRAIN_00000   7   2     저녁       13.97    287.78        9.84       76.1   \n",
       "1  TRAIN_00001   8  21     오전       16.94    290.85       12.14       73.3   \n",
       "2  TRAIN_00002  11   1     저녁        9.76    283.84        5.40       74.2   \n",
       "3  TRAIN_00003  12  28     오전        5.27    277.30        2.71       83.5   \n",
       "4  TRAIN_00004   9  26     오후       17.35    290.86       12.68       74.0   \n",
       "\n",
       "   대기압(mbar)  포화 증기압(mbar)  실제 증기압(mbar)  증기압 부족량(mbar)  수증기 함량 (g/kg)  \\\n",
       "0     992.08         15.98         12.16           3.82           7.66   \n",
       "1     991.07         19.33         14.17           5.16           8.94   \n",
       "2     988.71         12.10          8.98           3.12           5.67   \n",
       "3    1014.25          8.89          7.43           1.47           4.57   \n",
       "4     995.77         19.84         14.68           5.16           9.22   \n",
       "\n",
       "   공기 밀도 (g/m**3)  풍향 (deg)  풍속 (m/s)  \n",
       "0         1198.06    155.60      1.61  \n",
       "1         1183.67    177.00      1.68  \n",
       "2         1213.22    146.20      0.73  \n",
       "3         1265.48    264.50      2.71  \n",
       "4         1187.40     19.34      1.00  "
      ]
     },
     "execution_count": 7,
     "metadata": {},
     "output_type": "execute_result"
    }
   ],
   "source": [
    "train.head(5)"
   ]
  },
  {
   "cell_type": "code",
   "execution_count": 8,
   "id": "44f9fcbb",
   "metadata": {},
   "outputs": [
    {
     "data": {
      "text/html": [
       "<div>\n",
       "<style scoped>\n",
       "    .dataframe tbody tr th:only-of-type {\n",
       "        vertical-align: middle;\n",
       "    }\n",
       "\n",
       "    .dataframe tbody tr th {\n",
       "        vertical-align: top;\n",
       "    }\n",
       "\n",
       "    .dataframe thead th {\n",
       "        text-align: right;\n",
       "    }\n",
       "</style>\n",
       "<table border=\"1\" class=\"dataframe\">\n",
       "  <thead>\n",
       "    <tr style=\"text-align: right;\">\n",
       "      <th></th>\n",
       "      <th>ID</th>\n",
       "      <th>월</th>\n",
       "      <th>일</th>\n",
       "      <th>측정 시간대</th>\n",
       "      <th>섭씨 온도(°⁣C)</th>\n",
       "      <th>절대 온도(K)</th>\n",
       "      <th>이슬점 온도(°C)</th>\n",
       "      <th>상대 습도 (%)</th>\n",
       "      <th>대기압(mbar)</th>\n",
       "      <th>포화 증기압(mbar)</th>\n",
       "      <th>실제 증기압(mbar)</th>\n",
       "      <th>증기압 부족량(mbar)</th>\n",
       "      <th>수증기 함량 (g/kg)</th>\n",
       "      <th>공기 밀도 (g/m**3)</th>\n",
       "      <th>풍향 (deg)</th>\n",
       "    </tr>\n",
       "  </thead>\n",
       "  <tbody>\n",
       "    <tr>\n",
       "      <th>0</th>\n",
       "      <td>TEST_00000</td>\n",
       "      <td>3</td>\n",
       "      <td>24</td>\n",
       "      <td>새벽</td>\n",
       "      <td>4.28</td>\n",
       "      <td>278.68</td>\n",
       "      <td>-0.21</td>\n",
       "      <td>72.5</td>\n",
       "      <td>984.48</td>\n",
       "      <td>8.30</td>\n",
       "      <td>6.02</td>\n",
       "      <td>2.28</td>\n",
       "      <td>3.81</td>\n",
       "      <td>1233.29</td>\n",
       "      <td>251.80</td>\n",
       "    </tr>\n",
       "    <tr>\n",
       "      <th>1</th>\n",
       "      <td>TEST_00001</td>\n",
       "      <td>9</td>\n",
       "      <td>24</td>\n",
       "      <td>저녁</td>\n",
       "      <td>13.40</td>\n",
       "      <td>286.81</td>\n",
       "      <td>10.36</td>\n",
       "      <td>81.8</td>\n",
       "      <td>996.98</td>\n",
       "      <td>15.40</td>\n",
       "      <td>12.59</td>\n",
       "      <td>2.80</td>\n",
       "      <td>7.89</td>\n",
       "      <td>1206.20</td>\n",
       "      <td>225.60</td>\n",
       "    </tr>\n",
       "    <tr>\n",
       "      <th>2</th>\n",
       "      <td>TEST_00002</td>\n",
       "      <td>5</td>\n",
       "      <td>28</td>\n",
       "      <td>저녁</td>\n",
       "      <td>19.89</td>\n",
       "      <td>294.33</td>\n",
       "      <td>14.95</td>\n",
       "      <td>73.2</td>\n",
       "      <td>984.83</td>\n",
       "      <td>23.26</td>\n",
       "      <td>17.03</td>\n",
       "      <td>6.23</td>\n",
       "      <td>10.82</td>\n",
       "      <td>1163.06</td>\n",
       "      <td>10.39</td>\n",
       "    </tr>\n",
       "    <tr>\n",
       "      <th>3</th>\n",
       "      <td>TEST_00003</td>\n",
       "      <td>1</td>\n",
       "      <td>17</td>\n",
       "      <td>저녁</td>\n",
       "      <td>-2.88</td>\n",
       "      <td>270.44</td>\n",
       "      <td>-4.47</td>\n",
       "      <td>88.7</td>\n",
       "      <td>998.02</td>\n",
       "      <td>4.94</td>\n",
       "      <td>4.38</td>\n",
       "      <td>0.56</td>\n",
       "      <td>2.73</td>\n",
       "      <td>1284.19</td>\n",
       "      <td>260.20</td>\n",
       "    </tr>\n",
       "    <tr>\n",
       "      <th>4</th>\n",
       "      <td>TEST_00004</td>\n",
       "      <td>10</td>\n",
       "      <td>22</td>\n",
       "      <td>오후</td>\n",
       "      <td>6.97</td>\n",
       "      <td>281.18</td>\n",
       "      <td>4.36</td>\n",
       "      <td>83.4</td>\n",
       "      <td>987.00</td>\n",
       "      <td>10.01</td>\n",
       "      <td>8.35</td>\n",
       "      <td>1.66</td>\n",
       "      <td>5.28</td>\n",
       "      <td>1223.47</td>\n",
       "      <td>262.50</td>\n",
       "    </tr>\n",
       "  </tbody>\n",
       "</table>\n",
       "</div>"
      ],
      "text/plain": [
       "           ID   월   일 측정 시간대  섭씨 온도(°⁣C)  절대 온도(K)  이슬점 온도(°C)  상대 습도 (%)  \\\n",
       "0  TEST_00000   3  24     새벽        4.28    278.68       -0.21       72.5   \n",
       "1  TEST_00001   9  24     저녁       13.40    286.81       10.36       81.8   \n",
       "2  TEST_00002   5  28     저녁       19.89    294.33       14.95       73.2   \n",
       "3  TEST_00003   1  17     저녁       -2.88    270.44       -4.47       88.7   \n",
       "4  TEST_00004  10  22     오후        6.97    281.18        4.36       83.4   \n",
       "\n",
       "   대기압(mbar)  포화 증기압(mbar)  실제 증기압(mbar)  증기압 부족량(mbar)  수증기 함량 (g/kg)  \\\n",
       "0     984.48          8.30          6.02           2.28           3.81   \n",
       "1     996.98         15.40         12.59           2.80           7.89   \n",
       "2     984.83         23.26         17.03           6.23          10.82   \n",
       "3     998.02          4.94          4.38           0.56           2.73   \n",
       "4     987.00         10.01          8.35           1.66           5.28   \n",
       "\n",
       "   공기 밀도 (g/m**3)  풍향 (deg)  \n",
       "0         1233.29    251.80  \n",
       "1         1206.20    225.60  \n",
       "2         1163.06     10.39  \n",
       "3         1284.19    260.20  \n",
       "4         1223.47    262.50  "
      ]
     },
     "execution_count": 8,
     "metadata": {},
     "output_type": "execute_result"
    }
   ],
   "source": [
    "test.head(5)"
   ]
  },
  {
   "cell_type": "markdown",
   "id": "acdbb97b",
   "metadata": {},
   "source": [
    "# At a glance"
   ]
  },
  {
   "cell_type": "markdown",
   "id": "80b66671",
   "metadata": {},
   "source": [
    "Dataset Info.\n",
    "\n",
    "#### train.csv\n",
    "57920개의 데이터  \n",
    "ID : 샘플 별 고유 id  \n",
    "월: 데이터가 기록된 달을 나타냅니다.  \n",
    "일: 데이터가 기록된 날짜를 나타냅니다.  \n",
    "측정 시간대: 데이터가 측정된 시간대를 나타냅니다. 오전, 오후, 저녁, 새벽으로 구분되어 있습니다.  \n",
    "섭씨 온도 (° ⁣C)  \n",
    "절대 온도 (K)  \n",
    "이슬점 온도 (° ⁣C)  \n",
    "상대 습도 (%)  \n",
    "대기압 (mbar)  \n",
    "포화 증기압 (mbar)  \n",
    "실제 증기압 (mbar)  \n",
    "증기압 부족량 (mbar)  \n",
    "수증기 함량 (g/kg): 공기 1 kg당 수증기의 질량을 그램(g) 단위로 나타냅니다.  \n",
    "공기 밀도 (g/m**3): 1 m³의 부피에 들어있는 공기의 질량을 그램(g) 단위로 나타냅니다.  \n",
    "풍향 (deg): 바람의 향하는 방향을 각도(degree)로 나타냅니다.  \n",
    "풍속 (m/s)"
   ]
  },
  {
   "cell_type": "markdown",
   "id": "aa74335c",
   "metadata": {},
   "source": [
    "train 데이터프레임은 총 26129개의 행(RangeIndex)과 16개의 열(Data columns)로 구성되어 있습니다.\n",
    "\n",
    "수치형 데이터가 12개(float64)와 2개(int64)의 컬럼으로 구성되어 있으며, object 타입의 컬럼도 2개 있습니다.\n",
    "따라서 'ID'와 '측정 시간대' 컬럼이 문자열 데이터라는 것을 알 수 있습니다."
   ]
  },
  {
   "cell_type": "code",
   "execution_count": 9,
   "id": "0792b65e",
   "metadata": {},
   "outputs": [
    {
     "name": "stdout",
     "output_type": "stream",
     "text": [
      "<class 'pandas.core.frame.DataFrame'>\n",
      "RangeIndex: 36581 entries, 0 to 36580\n",
      "Data columns (total 16 columns):\n",
      " #   Column          Non-Null Count  Dtype  \n",
      "---  ------          --------------  -----  \n",
      " 0   ID              36581 non-null  object \n",
      " 1   월               36581 non-null  int64  \n",
      " 2   일               36581 non-null  int64  \n",
      " 3   측정 시간대          36581 non-null  object \n",
      " 4   섭씨 온도(°⁣C)      36581 non-null  float64\n",
      " 5   절대 온도(K)        36581 non-null  float64\n",
      " 6   이슬점 온도(°C)      36581 non-null  float64\n",
      " 7   상대 습도 (%)       36581 non-null  float64\n",
      " 8   대기압(mbar)       36581 non-null  float64\n",
      " 9   포화 증기압(mbar)    36581 non-null  float64\n",
      " 10  실제 증기압(mbar)    36581 non-null  float64\n",
      " 11  증기압 부족량(mbar)   36581 non-null  float64\n",
      " 12  수증기 함량 (g/kg)   36581 non-null  float64\n",
      " 13  공기 밀도 (g/m**3)  36581 non-null  float64\n",
      " 14  풍향 (deg)        36581 non-null  float64\n",
      " 15  풍속 (m/s)        36581 non-null  float64\n",
      "dtypes: float64(12), int64(2), object(2)\n",
      "memory usage: 4.5+ MB\n"
     ]
    }
   ],
   "source": [
    "train.info()"
   ]
  },
  {
   "cell_type": "code",
   "execution_count": null,
   "id": "dde03adb",
   "metadata": {},
   "outputs": [],
   "source": []
  },
  {
   "cell_type": "markdown",
   "id": "be1b6ee6",
   "metadata": {},
   "source": [
    "# Background Knowledge"
   ]
  },
  {
   "cell_type": "markdown",
   "id": "823f587e",
   "metadata": {},
   "source": [
    "#### 풍속과 관련 있는 변수\n",
    "\n",
    "1. 대기압 (mbar): 기압은 대기의 무게로 인해 발생하므로, 대기압은 기압에 직접적인 영향을 미칩니다.\n",
    "\n",
    "2. 이슬점 온도 (° ⁣C): 이슬점 온도는 공기가 포화 상태로 수증기를 포함하는데 필요한 온도를 의미하며, 공기가 포화되면 대기압에 영향을 줄 수 있습니다.\n",
    "\n",
    "3. 상대 습도 (%): 상대 습도는 공기가 포화 상태에 얼마나 가까운지를 나타내는데, 수증기가 포화되면 기압에 영향을 미칠 수 있습니다.\n",
    "\n",
    "4. 수증기 함량 (g/kg): 공기 내의 수증기의 양은 대기압과 관련하여 영향을 미칠 수 있습니다.\n",
    "\n",
    "5. 섭씨 온도 (° ⁣C) 또는 절대 온도 (K): 온도의 변화는 대기의 열적 팽창과 함께 기압에 영향을 미칠 수 있습니다.\n",
    "\n",
    "6. 증기압 부족량 (mbar): 공기 중의 수증기가 포화 상태에 미치지 못하는 압력 차이로, 기압에 영향을 줄 수 있습니다.\n",
    "\n",
    "7. 공기 밀도 (g/m**3): 공기의 밀도는 공기의 질량과 부피에 영향을 미치며, 이는 일부 경우에 기압에 영향을 미칠 수 있습니다.\n",
    "\n",
    "8. 측정 시간대: 측정 시간대는 기압에 직접적인 영향은 없지만, 기상 조건과 관련하여 다른 변수들과 함께 영향을 미칠 수 있습니다.\n",
    "\n",
    "풍향 (deg)은 바람의 방향을 나타내기 때문에 기압에 직접적인 영향을 미치지 않지만, 바람은 기압의 차이로 인해 발생하고 이동하므로 간접적으로 기압과 연관이 있습니다. 따라서 바람은 기압 변화와 관련하여 중요한 요소입니다. 하지만 바람의 방향 자체가 기압에 직접적인 영향을 주지는 않습니다."
   ]
  },
  {
   "cell_type": "markdown",
   "id": "33495bf6",
   "metadata": {},
   "source": [
    "#### 풍속과 관련 적은 변수\n",
    "1. 섭씨 온도 (° ⁣C) 또는 절대 온도 (K): 풍속은 주로 기압 차이에 의해 발생하고, 온도는 풍속에 직접적인 영향을 주지 않습니다. 따라서 풍속을 결정하는데 온도는 크게 영향을 미치지 않습니다.\n",
    "\n",
    "2. 증기압 부족량 (mbar): 증기압 부족량은 공기 중의 수증기가 포화 상태에 미치지 못하는 압력 차이를 나타냅니다. 풍속을 결정하는데 이 변수는 직접적인 영향을 주지 않습니다.\n",
    "\n",
    "3. 공기 밀도 (g/m**3): 풍속은 대기의 움직임과 기압 차이에 의해 발생하고, 공기의 밀도는 풍속에 큰 영향을 미치지 않습니다.\n",
    "\n",
    "4. 측정 시간대: 풍속은 대기의 움직임과 기압 차이에 따라 형성되므로, 측정 시간대는 풍속에 직접적인 영향을 주지 않습니다.\n",
    "\n",
    "위 변수들은 풍속에 직접적인 영향을 미치지 않는다는 것을 기억하는 것이 중요합니다. 풍속은 주로 기압 차이에 의해 발생하며, 바람은 기압이 낮은 곳에서 기압이 높은 곳으로 흐르는 경향을 가지기 때문에 기압과 관련된 변수들이 풍속에 큰 영향을 미칩니다. 따라서 풍속을 예측하거나 이해하기 위해서는 주로 기압과 관련된 변수들이 중요하며, 기온, 증기압, 공기 밀도, 측정 시간대는 풍속과의 직접적인 관련성이 낮습니다."
   ]
  },
  {
   "cell_type": "code",
   "execution_count": null,
   "id": "82e84f8c",
   "metadata": {},
   "outputs": [],
   "source": []
  },
  {
   "cell_type": "markdown",
   "id": "1bc76edb",
   "metadata": {},
   "source": [
    "# Data Split"
   ]
  },
  {
   "cell_type": "markdown",
   "id": "0bfc9c2c",
   "metadata": {},
   "source": [
    "모델을 학습하기 위해서는 독립변수(X)와 종속변수(y)로 나누어야 합니다.  \n",
    "독립변수는 Feature, 종속변수는 Target이라고 불리기도 합니다.  \n",
    "\n",
    "Feature : 예측을 위해 활용되는 데이터  \n",
    "Target : 예측하고자 하는 대상  \n",
    "(이 때, 분석에 활용하지 않는 데이터인 'id'는 제거하겠습니다.)"
   ]
  },
  {
   "cell_type": "code",
   "execution_count": null,
   "id": "52991b0a",
   "metadata": {},
   "outputs": [],
   "source": [
    "# train_x는 독립변수이므로 종속변수(풍속 (m/s))를 제거합니다. \n",
    "# 또한 target 이외의 분석에 활용하지 않는 데이터(id)를 제거합니다.\n",
    "train_x = train.drop(columns=['ID', '풍속 (m/s)'], axis = 1)\n",
    "\n",
    "# train_y는 종속변수로 값을 설정합니다.\n",
    "train_y = train['풍속 (m/s)']"
   ]
  },
  {
   "cell_type": "code",
   "execution_count": null,
   "id": "130f5a69",
   "metadata": {},
   "outputs": [],
   "source": [
    "# train에서와 마찬가지로 분석에 활용하지 않는 데이터(id)를 제거합니다.\n",
    "test_x = test.drop(columns=['ID'])"
   ]
  },
  {
   "cell_type": "code",
   "execution_count": null,
   "id": "d4c84720",
   "metadata": {},
   "outputs": [],
   "source": []
  },
  {
   "cell_type": "markdown",
   "id": "1c40dc11",
   "metadata": {},
   "source": [
    "# Explore Datset"
   ]
  },
  {
   "cell_type": "code",
   "execution_count": null,
   "id": "ce8b5c17",
   "metadata": {},
   "outputs": [],
   "source": []
  },
  {
   "cell_type": "markdown",
   "id": "6e95313f",
   "metadata": {},
   "source": [
    "# Data Pre-processing"
   ]
  },
  {
   "cell_type": "code",
   "execution_count": null,
   "id": "2026e85c",
   "metadata": {},
   "outputs": [],
   "source": [
    "from sklearn.preprocessing import LabelEncoder\n",
    "\n",
    "le = LabelEncoder()\n",
    "le = le.fit(train_x['측정 시간대'])\n",
    "train_x['측정 시간대'] = le.transform(train_x['측정 시간대'])\n",
    "test_x['측정 시간대'] = le.transform(test_x['측정 시간대'])"
   ]
  },
  {
   "cell_type": "code",
   "execution_count": null,
   "id": "3832231f",
   "metadata": {},
   "outputs": [],
   "source": []
  },
  {
   "cell_type": "markdown",
   "id": "4f036d7c",
   "metadata": {},
   "source": [
    "# Model Definition"
   ]
  },
  {
   "cell_type": "code",
   "execution_count": null,
   "id": "efb15c23",
   "metadata": {},
   "outputs": [],
   "source": [
    "from sklearn.tree import DecisionTreeRegressor\n",
    "\n",
    "dt_clf = DecisionTreeRegressor(random_state=11) "
   ]
  },
  {
   "cell_type": "code",
   "execution_count": null,
   "id": "2f09dd06",
   "metadata": {},
   "outputs": [],
   "source": []
  },
  {
   "cell_type": "markdown",
   "id": "3636cec7",
   "metadata": {},
   "source": [
    "# Model Fit"
   ]
  },
  {
   "cell_type": "code",
   "execution_count": null,
   "id": "7a8ee540",
   "metadata": {},
   "outputs": [],
   "source": [
    "dt_clf.fit(train_x , train_y) "
   ]
  },
  {
   "cell_type": "code",
   "execution_count": null,
   "id": "b2c1cdda",
   "metadata": {},
   "outputs": [],
   "source": []
  },
  {
   "cell_type": "markdown",
   "id": "2ef53edd",
   "metadata": {},
   "source": [
    "# Prediction"
   ]
  },
  {
   "cell_type": "code",
   "execution_count": null,
   "id": "4ddb93c8",
   "metadata": {},
   "outputs": [],
   "source": [
    "dt_pred = dt_clf.predict(test_x) "
   ]
  },
  {
   "cell_type": "code",
   "execution_count": null,
   "id": "fab561ee",
   "metadata": {},
   "outputs": [],
   "source": []
  },
  {
   "cell_type": "markdown",
   "id": "bcf75781",
   "metadata": {},
   "source": [
    "# Submit"
   ]
  },
  {
   "cell_type": "code",
   "execution_count": null,
   "id": "ea067970",
   "metadata": {},
   "outputs": [],
   "source": [
    "submission = pd.read_csv('./sample_submission.csv')"
   ]
  },
  {
   "cell_type": "code",
   "execution_count": null,
   "id": "2b51e3ac",
   "metadata": {},
   "outputs": [],
   "source": [
    "submission['풍속 (m/s)'] = dt_pred\n",
    "submission.head()"
   ]
  },
  {
   "cell_type": "code",
   "execution_count": null,
   "id": "2759443c",
   "metadata": {},
   "outputs": [],
   "source": [
    "submission.to_csv('submission/submission_'+datetime.datetime.now().strftime(\"%Y%m%d%H%M\")+'.csv', index=  False)"
   ]
  },
  {
   "cell_type": "markdown",
   "id": "4925ebf8",
   "metadata": {},
   "source": [
    "//끝//"
   ]
  }
 ],
 "metadata": {
  "kernelspec": {
   "display_name": "Python 3 (ipykernel)",
   "language": "python",
   "name": "python3"
  },
  "language_info": {
   "codemirror_mode": {
    "name": "ipython",
    "version": 3
   },
   "file_extension": ".py",
   "mimetype": "text/x-python",
   "name": "python",
   "nbconvert_exporter": "python",
   "pygments_lexer": "ipython3",
   "version": "3.8.10"
  }
 },
 "nbformat": 4,
 "nbformat_minor": 5
}
