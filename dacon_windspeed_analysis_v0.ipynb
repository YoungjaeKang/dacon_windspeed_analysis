{
 "cells": [
  {
   "cell_type": "markdown",
   "id": "7d6ce880",
   "metadata": {},
   "source": [
    "# DATA LEAKAGE 조심!! 또 확인!!"
   ]
  },
  {
   "cell_type": "markdown",
   "id": "7a1c7c53",
   "metadata": {},
   "source": [
    "***"
   ]
  },
  {
   "cell_type": "markdown",
   "id": "31256db5",
   "metadata": {},
   "source": [
    "# Import Libraries"
   ]
  },
  {
   "cell_type": "code",
   "execution_count": 14,
   "id": "97707103",
   "metadata": {},
   "outputs": [],
   "source": [
    "import pandas as pd\n",
    "import numpy as np\n",
    "\n",
    "import random\n",
    "import time\n",
    "import os\n",
    "\n",
    "import datetime\n",
    "\n",
    "import xgboost\n",
    "from xgboost import XGBRegressor\n",
    "from sklearn.model_selection import train_test_split\n",
    "from sklearn.metrics import explained_variance_score\n",
    "\n",
    "from sklearn.model_selection import GridSearchCV, RandomizedSearchCV\n",
    "from scipy.stats import randint, uniform\n",
    "\n",
    "import matplotlib.pyplot as plt\n",
    "import seaborn as sns\n",
    "\n",
    "%matplotlib inline\n",
    "\n",
    "import warnings\n",
    "warnings.filterwarnings('ignore')\n",
    "\n",
    "plt.rcParams['font.family'] = 'NanumGothic'\n",
    "plt.rcParams['font.size'] = 13"
   ]
  },
  {
   "cell_type": "markdown",
   "id": "354e48b9",
   "metadata": {},
   "source": [
    "# Fixed Random Seed"
   ]
  },
  {
   "cell_type": "code",
   "execution_count": 2,
   "id": "4ca16856",
   "metadata": {},
   "outputs": [],
   "source": [
    "def seed_everything(seed):\n",
    "    random.seed(seed)\n",
    "    os.environ['PYTHONHASHSEED'] = str(seed)\n",
    "    np.random.seed(seed)\n",
    "\n",
    "seed_everything(42) # Seed 고정"
   ]
  },
  {
   "cell_type": "markdown",
   "id": "dbe0e4d5",
   "metadata": {},
   "source": [
    "# Load Dataset"
   ]
  },
  {
   "cell_type": "code",
   "execution_count": 3,
   "id": "eee13e84",
   "metadata": {},
   "outputs": [],
   "source": [
    "train = pd.read_csv('data/train.csv')\n",
    "test = pd.read_csv('data/test.csv')"
   ]
  },
  {
   "cell_type": "code",
   "execution_count": 4,
   "id": "fc6f094b",
   "metadata": {},
   "outputs": [
    {
     "data": {
      "text/html": [
       "<div>\n",
       "<style scoped>\n",
       "    .dataframe tbody tr th:only-of-type {\n",
       "        vertical-align: middle;\n",
       "    }\n",
       "\n",
       "    .dataframe tbody tr th {\n",
       "        vertical-align: top;\n",
       "    }\n",
       "\n",
       "    .dataframe thead th {\n",
       "        text-align: right;\n",
       "    }\n",
       "</style>\n",
       "<table border=\"1\" class=\"dataframe\">\n",
       "  <thead>\n",
       "    <tr style=\"text-align: right;\">\n",
       "      <th></th>\n",
       "      <th>ID</th>\n",
       "      <th>월</th>\n",
       "      <th>일</th>\n",
       "      <th>측정 시간대</th>\n",
       "      <th>섭씨 온도(°⁣C)</th>\n",
       "      <th>절대 온도(K)</th>\n",
       "      <th>이슬점 온도(°C)</th>\n",
       "      <th>상대 습도 (%)</th>\n",
       "      <th>대기압(mbar)</th>\n",
       "      <th>포화 증기압(mbar)</th>\n",
       "      <th>실제 증기압(mbar)</th>\n",
       "      <th>증기압 부족량(mbar)</th>\n",
       "      <th>수증기 함량 (g/kg)</th>\n",
       "      <th>공기 밀도 (g/m**3)</th>\n",
       "      <th>풍향 (deg)</th>\n",
       "      <th>풍속 (m/s)</th>\n",
       "    </tr>\n",
       "  </thead>\n",
       "  <tbody>\n",
       "    <tr>\n",
       "      <th>0</th>\n",
       "      <td>TRAIN_00000</td>\n",
       "      <td>7</td>\n",
       "      <td>2</td>\n",
       "      <td>저녁</td>\n",
       "      <td>13.97</td>\n",
       "      <td>287.78</td>\n",
       "      <td>9.84</td>\n",
       "      <td>76.1</td>\n",
       "      <td>992.08</td>\n",
       "      <td>15.98</td>\n",
       "      <td>12.16</td>\n",
       "      <td>3.82</td>\n",
       "      <td>7.66</td>\n",
       "      <td>1198.06</td>\n",
       "      <td>155.60</td>\n",
       "      <td>1.61</td>\n",
       "    </tr>\n",
       "    <tr>\n",
       "      <th>1</th>\n",
       "      <td>TRAIN_00001</td>\n",
       "      <td>8</td>\n",
       "      <td>21</td>\n",
       "      <td>오전</td>\n",
       "      <td>16.94</td>\n",
       "      <td>290.85</td>\n",
       "      <td>12.14</td>\n",
       "      <td>73.3</td>\n",
       "      <td>991.07</td>\n",
       "      <td>19.33</td>\n",
       "      <td>14.17</td>\n",
       "      <td>5.16</td>\n",
       "      <td>8.94</td>\n",
       "      <td>1183.67</td>\n",
       "      <td>177.00</td>\n",
       "      <td>1.68</td>\n",
       "    </tr>\n",
       "    <tr>\n",
       "      <th>2</th>\n",
       "      <td>TRAIN_00002</td>\n",
       "      <td>11</td>\n",
       "      <td>1</td>\n",
       "      <td>저녁</td>\n",
       "      <td>9.76</td>\n",
       "      <td>283.84</td>\n",
       "      <td>5.40</td>\n",
       "      <td>74.2</td>\n",
       "      <td>988.71</td>\n",
       "      <td>12.10</td>\n",
       "      <td>8.98</td>\n",
       "      <td>3.12</td>\n",
       "      <td>5.67</td>\n",
       "      <td>1213.22</td>\n",
       "      <td>146.20</td>\n",
       "      <td>0.73</td>\n",
       "    </tr>\n",
       "    <tr>\n",
       "      <th>3</th>\n",
       "      <td>TRAIN_00003</td>\n",
       "      <td>12</td>\n",
       "      <td>28</td>\n",
       "      <td>오전</td>\n",
       "      <td>5.27</td>\n",
       "      <td>277.30</td>\n",
       "      <td>2.71</td>\n",
       "      <td>83.5</td>\n",
       "      <td>1014.25</td>\n",
       "      <td>8.89</td>\n",
       "      <td>7.43</td>\n",
       "      <td>1.47</td>\n",
       "      <td>4.57</td>\n",
       "      <td>1265.48</td>\n",
       "      <td>264.50</td>\n",
       "      <td>2.71</td>\n",
       "    </tr>\n",
       "    <tr>\n",
       "      <th>4</th>\n",
       "      <td>TRAIN_00004</td>\n",
       "      <td>9</td>\n",
       "      <td>26</td>\n",
       "      <td>오후</td>\n",
       "      <td>17.35</td>\n",
       "      <td>290.86</td>\n",
       "      <td>12.68</td>\n",
       "      <td>74.0</td>\n",
       "      <td>995.77</td>\n",
       "      <td>19.84</td>\n",
       "      <td>14.68</td>\n",
       "      <td>5.16</td>\n",
       "      <td>9.22</td>\n",
       "      <td>1187.40</td>\n",
       "      <td>19.34</td>\n",
       "      <td>1.00</td>\n",
       "    </tr>\n",
       "  </tbody>\n",
       "</table>\n",
       "</div>"
      ],
      "text/plain": [
       "            ID   월   일 측정 시간대  섭씨 온도(°⁣C)  절대 온도(K)  이슬점 온도(°C)  상대 습도 (%)  \\\n",
       "0  TRAIN_00000   7   2     저녁       13.97    287.78        9.84       76.1   \n",
       "1  TRAIN_00001   8  21     오전       16.94    290.85       12.14       73.3   \n",
       "2  TRAIN_00002  11   1     저녁        9.76    283.84        5.40       74.2   \n",
       "3  TRAIN_00003  12  28     오전        5.27    277.30        2.71       83.5   \n",
       "4  TRAIN_00004   9  26     오후       17.35    290.86       12.68       74.0   \n",
       "\n",
       "   대기압(mbar)  포화 증기압(mbar)  실제 증기압(mbar)  증기압 부족량(mbar)  수증기 함량 (g/kg)  \\\n",
       "0     992.08         15.98         12.16           3.82           7.66   \n",
       "1     991.07         19.33         14.17           5.16           8.94   \n",
       "2     988.71         12.10          8.98           3.12           5.67   \n",
       "3    1014.25          8.89          7.43           1.47           4.57   \n",
       "4     995.77         19.84         14.68           5.16           9.22   \n",
       "\n",
       "   공기 밀도 (g/m**3)  풍향 (deg)  풍속 (m/s)  \n",
       "0         1198.06    155.60      1.61  \n",
       "1         1183.67    177.00      1.68  \n",
       "2         1213.22    146.20      0.73  \n",
       "3         1265.48    264.50      2.71  \n",
       "4         1187.40     19.34      1.00  "
      ]
     },
     "execution_count": 4,
     "metadata": {},
     "output_type": "execute_result"
    }
   ],
   "source": [
    "train.head(5)"
   ]
  },
  {
   "cell_type": "code",
   "execution_count": 5,
   "id": "44f9fcbb",
   "metadata": {},
   "outputs": [
    {
     "data": {
      "text/html": [
       "<div>\n",
       "<style scoped>\n",
       "    .dataframe tbody tr th:only-of-type {\n",
       "        vertical-align: middle;\n",
       "    }\n",
       "\n",
       "    .dataframe tbody tr th {\n",
       "        vertical-align: top;\n",
       "    }\n",
       "\n",
       "    .dataframe thead th {\n",
       "        text-align: right;\n",
       "    }\n",
       "</style>\n",
       "<table border=\"1\" class=\"dataframe\">\n",
       "  <thead>\n",
       "    <tr style=\"text-align: right;\">\n",
       "      <th></th>\n",
       "      <th>ID</th>\n",
       "      <th>월</th>\n",
       "      <th>일</th>\n",
       "      <th>측정 시간대</th>\n",
       "      <th>섭씨 온도(°⁣C)</th>\n",
       "      <th>절대 온도(K)</th>\n",
       "      <th>이슬점 온도(°C)</th>\n",
       "      <th>상대 습도 (%)</th>\n",
       "      <th>대기압(mbar)</th>\n",
       "      <th>포화 증기압(mbar)</th>\n",
       "      <th>실제 증기압(mbar)</th>\n",
       "      <th>증기압 부족량(mbar)</th>\n",
       "      <th>수증기 함량 (g/kg)</th>\n",
       "      <th>공기 밀도 (g/m**3)</th>\n",
       "      <th>풍향 (deg)</th>\n",
       "    </tr>\n",
       "  </thead>\n",
       "  <tbody>\n",
       "    <tr>\n",
       "      <th>0</th>\n",
       "      <td>TEST_00000</td>\n",
       "      <td>3</td>\n",
       "      <td>24</td>\n",
       "      <td>새벽</td>\n",
       "      <td>4.28</td>\n",
       "      <td>278.68</td>\n",
       "      <td>-0.21</td>\n",
       "      <td>72.5</td>\n",
       "      <td>984.48</td>\n",
       "      <td>8.30</td>\n",
       "      <td>6.02</td>\n",
       "      <td>2.28</td>\n",
       "      <td>3.81</td>\n",
       "      <td>1233.29</td>\n",
       "      <td>251.80</td>\n",
       "    </tr>\n",
       "    <tr>\n",
       "      <th>1</th>\n",
       "      <td>TEST_00001</td>\n",
       "      <td>9</td>\n",
       "      <td>24</td>\n",
       "      <td>저녁</td>\n",
       "      <td>13.40</td>\n",
       "      <td>286.81</td>\n",
       "      <td>10.36</td>\n",
       "      <td>81.8</td>\n",
       "      <td>996.98</td>\n",
       "      <td>15.40</td>\n",
       "      <td>12.59</td>\n",
       "      <td>2.80</td>\n",
       "      <td>7.89</td>\n",
       "      <td>1206.20</td>\n",
       "      <td>225.60</td>\n",
       "    </tr>\n",
       "    <tr>\n",
       "      <th>2</th>\n",
       "      <td>TEST_00002</td>\n",
       "      <td>5</td>\n",
       "      <td>28</td>\n",
       "      <td>저녁</td>\n",
       "      <td>19.89</td>\n",
       "      <td>294.33</td>\n",
       "      <td>14.95</td>\n",
       "      <td>73.2</td>\n",
       "      <td>984.83</td>\n",
       "      <td>23.26</td>\n",
       "      <td>17.03</td>\n",
       "      <td>6.23</td>\n",
       "      <td>10.82</td>\n",
       "      <td>1163.06</td>\n",
       "      <td>10.39</td>\n",
       "    </tr>\n",
       "    <tr>\n",
       "      <th>3</th>\n",
       "      <td>TEST_00003</td>\n",
       "      <td>1</td>\n",
       "      <td>17</td>\n",
       "      <td>저녁</td>\n",
       "      <td>-2.88</td>\n",
       "      <td>270.44</td>\n",
       "      <td>-4.47</td>\n",
       "      <td>88.7</td>\n",
       "      <td>998.02</td>\n",
       "      <td>4.94</td>\n",
       "      <td>4.38</td>\n",
       "      <td>0.56</td>\n",
       "      <td>2.73</td>\n",
       "      <td>1284.19</td>\n",
       "      <td>260.20</td>\n",
       "    </tr>\n",
       "    <tr>\n",
       "      <th>4</th>\n",
       "      <td>TEST_00004</td>\n",
       "      <td>10</td>\n",
       "      <td>22</td>\n",
       "      <td>오후</td>\n",
       "      <td>6.97</td>\n",
       "      <td>281.18</td>\n",
       "      <td>4.36</td>\n",
       "      <td>83.4</td>\n",
       "      <td>987.00</td>\n",
       "      <td>10.01</td>\n",
       "      <td>8.35</td>\n",
       "      <td>1.66</td>\n",
       "      <td>5.28</td>\n",
       "      <td>1223.47</td>\n",
       "      <td>262.50</td>\n",
       "    </tr>\n",
       "  </tbody>\n",
       "</table>\n",
       "</div>"
      ],
      "text/plain": [
       "           ID   월   일 측정 시간대  섭씨 온도(°⁣C)  절대 온도(K)  이슬점 온도(°C)  상대 습도 (%)  \\\n",
       "0  TEST_00000   3  24     새벽        4.28    278.68       -0.21       72.5   \n",
       "1  TEST_00001   9  24     저녁       13.40    286.81       10.36       81.8   \n",
       "2  TEST_00002   5  28     저녁       19.89    294.33       14.95       73.2   \n",
       "3  TEST_00003   1  17     저녁       -2.88    270.44       -4.47       88.7   \n",
       "4  TEST_00004  10  22     오후        6.97    281.18        4.36       83.4   \n",
       "\n",
       "   대기압(mbar)  포화 증기압(mbar)  실제 증기압(mbar)  증기압 부족량(mbar)  수증기 함량 (g/kg)  \\\n",
       "0     984.48          8.30          6.02           2.28           3.81   \n",
       "1     996.98         15.40         12.59           2.80           7.89   \n",
       "2     984.83         23.26         17.03           6.23          10.82   \n",
       "3     998.02          4.94          4.38           0.56           2.73   \n",
       "4     987.00         10.01          8.35           1.66           5.28   \n",
       "\n",
       "   공기 밀도 (g/m**3)  풍향 (deg)  \n",
       "0         1233.29    251.80  \n",
       "1         1206.20    225.60  \n",
       "2         1163.06     10.39  \n",
       "3         1284.19    260.20  \n",
       "4         1223.47    262.50  "
      ]
     },
     "execution_count": 5,
     "metadata": {},
     "output_type": "execute_result"
    }
   ],
   "source": [
    "test.head(5)"
   ]
  },
  {
   "cell_type": "markdown",
   "id": "acdbb97b",
   "metadata": {},
   "source": [
    "# At a glance"
   ]
  },
  {
   "cell_type": "markdown",
   "id": "80b66671",
   "metadata": {},
   "source": [
    "Dataset Info.\n",
    "\n",
    "#### train.csv\n",
    "57920개의 데이터  \n",
    "ID : 샘플 별 고유 id  \n",
    "월: 데이터가 기록된 달을 나타냅니다.  \n",
    "일: 데이터가 기록된 날짜를 나타냅니다.  \n",
    "측정 시간대: 데이터가 측정된 시간대를 나타냅니다. 오전, 오후, 저녁, 새벽으로 구분되어 있습니다.  \n",
    "섭씨 온도 (° ⁣C)  \n",
    "절대 온도 (K)  \n",
    "이슬점 온도 (° ⁣C)  \n",
    "상대 습도 (%)  \n",
    "대기압 (mbar)  \n",
    "포화 증기압 (mbar)  \n",
    "실제 증기압 (mbar)  \n",
    "증기압 부족량 (mbar)  \n",
    "수증기 함량 (g/kg): 공기 1 kg당 수증기의 질량을 그램(g) 단위로 나타냅니다.  \n",
    "공기 밀도 (g/m**3): 1 m³의 부피에 들어있는 공기의 질량을 그램(g) 단위로 나타냅니다.  \n",
    "풍향 (deg): 바람의 향하는 방향을 각도(degree)로 나타냅니다.  \n",
    "풍속 (m/s)"
   ]
  },
  {
   "cell_type": "markdown",
   "id": "aa74335c",
   "metadata": {},
   "source": [
    "train 데이터프레임은 총 26129개의 행(RangeIndex)과 16개의 열(Data columns)로 구성되어 있습니다.\n",
    "\n",
    "수치형 데이터가 12개(float64)와 2개(int64)의 컬럼으로 구성되어 있으며, object 타입의 컬럼도 2개 있습니다.\n",
    "따라서 'ID'와 '측정 시간대' 컬럼이 문자열 데이터라는 것을 알 수 있습니다."
   ]
  },
  {
   "cell_type": "code",
   "execution_count": 6,
   "id": "0792b65e",
   "metadata": {},
   "outputs": [
    {
     "name": "stdout",
     "output_type": "stream",
     "text": [
      "<class 'pandas.core.frame.DataFrame'>\n",
      "RangeIndex: 36581 entries, 0 to 36580\n",
      "Data columns (total 16 columns):\n",
      " #   Column          Non-Null Count  Dtype  \n",
      "---  ------          --------------  -----  \n",
      " 0   ID              36581 non-null  object \n",
      " 1   월               36581 non-null  int64  \n",
      " 2   일               36581 non-null  int64  \n",
      " 3   측정 시간대          36581 non-null  object \n",
      " 4   섭씨 온도(°⁣C)      36581 non-null  float64\n",
      " 5   절대 온도(K)        36581 non-null  float64\n",
      " 6   이슬점 온도(°C)      36581 non-null  float64\n",
      " 7   상대 습도 (%)       36581 non-null  float64\n",
      " 8   대기압(mbar)       36581 non-null  float64\n",
      " 9   포화 증기압(mbar)    36581 non-null  float64\n",
      " 10  실제 증기압(mbar)    36581 non-null  float64\n",
      " 11  증기압 부족량(mbar)   36581 non-null  float64\n",
      " 12  수증기 함량 (g/kg)   36581 non-null  float64\n",
      " 13  공기 밀도 (g/m**3)  36581 non-null  float64\n",
      " 14  풍향 (deg)        36581 non-null  float64\n",
      " 15  풍속 (m/s)        36581 non-null  float64\n",
      "dtypes: float64(12), int64(2), object(2)\n",
      "memory usage: 4.5+ MB\n"
     ]
    }
   ],
   "source": [
    "train.info()"
   ]
  },
  {
   "cell_type": "code",
   "execution_count": null,
   "id": "dde03adb",
   "metadata": {},
   "outputs": [],
   "source": []
  },
  {
   "cell_type": "markdown",
   "id": "be1b6ee6",
   "metadata": {},
   "source": [
    "# Background Knowledge"
   ]
  },
  {
   "cell_type": "markdown",
   "id": "823f587e",
   "metadata": {},
   "source": [
    "#### 풍속과 관련 있는 변수\n",
    "\n",
    "1. 대기압 (mbar): 기압은 대기의 무게로 인해 발생하므로, 대기압은 기압에 직접적인 영향을 미칩니다.\n",
    "\n",
    "2. 이슬점 온도 (° ⁣C): 이슬점 온도는 공기가 포화 상태로 수증기를 포함하는데 필요한 온도를 의미하며, 공기가 포화되면 대기압에 영향을 줄 수 있습니다.\n",
    "\n",
    "3. 상대 습도 (%): 상대 습도는 공기가 포화 상태에 얼마나 가까운지를 나타내는데, 수증기가 포화되면 기압에 영향을 미칠 수 있습니다.\n",
    "\n",
    "4. 수증기 함량 (g/kg): 공기 내의 수증기의 양은 대기압과 관련하여 영향을 미칠 수 있습니다.\n",
    "\n",
    "5. 섭씨 온도 (° ⁣C) 또는 절대 온도 (K): 온도의 변화는 대기의 열적 팽창과 함께 기압에 영향을 미칠 수 있습니다.\n",
    "\n",
    "6. 증기압 부족량 (mbar): 공기 중의 수증기가 포화 상태에 미치지 못하는 압력 차이로, 기압에 영향을 줄 수 있습니다.\n",
    "\n",
    "7. 공기 밀도 (g/m**3): 공기의 밀도는 공기의 질량과 부피에 영향을 미치며, 이는 일부 경우에 기압에 영향을 미칠 수 있습니다.\n",
    "\n",
    "8. 측정 시간대: 측정 시간대는 기압에 직접적인 영향은 없지만, 기상 조건과 관련하여 다른 변수들과 함께 영향을 미칠 수 있습니다.\n",
    "\n",
    "풍향 (deg)은 바람의 방향을 나타내기 때문에 기압에 직접적인 영향을 미치지 않지만, 바람은 기압의 차이로 인해 발생하고 이동하므로 간접적으로 기압과 연관이 있습니다. 따라서 바람은 기압 변화와 관련하여 중요한 요소입니다. 하지만 바람의 방향 자체가 기압에 직접적인 영향을 주지는 않습니다."
   ]
  },
  {
   "cell_type": "markdown",
   "id": "33495bf6",
   "metadata": {},
   "source": [
    "#### 풍속과 관련 적은 변수\n",
    "1. 섭씨 온도 (° ⁣C) 또는 절대 온도 (K): 풍속은 주로 기압 차이에 의해 발생하고, 온도는 풍속에 직접적인 영향을 주지 않습니다. 따라서 풍속을 결정하는데 온도는 크게 영향을 미치지 않습니다.\n",
    "\n",
    "2. 증기압 부족량 (mbar): 증기압 부족량은 공기 중의 수증기가 포화 상태에 미치지 못하는 압력 차이를 나타냅니다. 풍속을 결정하는데 이 변수는 직접적인 영향을 주지 않습니다.\n",
    "\n",
    "3. 공기 밀도 (g/m**3): 풍속은 대기의 움직임과 기압 차이에 의해 발생하고, 공기의 밀도는 풍속에 큰 영향을 미치지 않습니다.\n",
    "\n",
    "4. 측정 시간대: 풍속은 대기의 움직임과 기압 차이에 따라 형성되므로, 측정 시간대는 풍속에 직접적인 영향을 주지 않습니다.\n",
    "\n",
    "위 변수들은 풍속에 직접적인 영향을 미치지 않는다는 것을 기억하는 것이 중요합니다. 풍속은 주로 기압 차이에 의해 발생하며, 바람은 기압이 낮은 곳에서 기압이 높은 곳으로 흐르는 경향을 가지기 때문에 기압과 관련된 변수들이 풍속에 큰 영향을 미칩니다. 따라서 풍속을 예측하거나 이해하기 위해서는 주로 기압과 관련된 변수들이 중요하며, 기온, 증기압, 공기 밀도, 측정 시간대는 풍속과의 직접적인 관련성이 낮습니다."
   ]
  },
  {
   "cell_type": "code",
   "execution_count": null,
   "id": "82e84f8c",
   "metadata": {},
   "outputs": [],
   "source": []
  },
  {
   "cell_type": "markdown",
   "id": "1bc76edb",
   "metadata": {},
   "source": [
    "# Data Split"
   ]
  },
  {
   "cell_type": "markdown",
   "id": "0bfc9c2c",
   "metadata": {},
   "source": [
    "모델을 학습하기 위해서는 독립변수(X)와 종속변수(y)로 나누어야 합니다.  \n",
    "독립변수는 Feature, 종속변수는 Target이라고 불리기도 합니다.  \n",
    "\n",
    "Feature : 예측을 위해 활용되는 데이터  \n",
    "Target : 예측하고자 하는 대상  \n",
    "(이 때, 분석에 활용하지 않는 데이터인 'id'는 제거하겠습니다.)"
   ]
  },
  {
   "cell_type": "code",
   "execution_count": 7,
   "id": "52991b0a",
   "metadata": {},
   "outputs": [],
   "source": [
    "# train_x는 독립변수이므로 종속변수(풍속 (m/s))를 제거합니다. \n",
    "# 또한 target 이외의 분석에 활용하지 않는 데이터(id)를 제거합니다.\n",
    "train_x = train.drop(columns=['ID', '풍속 (m/s)'], axis = 1)\n",
    "\n",
    "# train_y는 종속변수로 값을 설정합니다.\n",
    "train_y = train['풍속 (m/s)']"
   ]
  },
  {
   "cell_type": "code",
   "execution_count": 8,
   "id": "130f5a69",
   "metadata": {},
   "outputs": [],
   "source": [
    "# train에서와 마찬가지로 분석에 활용하지 않는 데이터(id)를 제거합니다.\n",
    "test_x = test.drop(columns=['ID'])"
   ]
  },
  {
   "cell_type": "markdown",
   "id": "1c40dc11",
   "metadata": {},
   "source": [
    "# Explore Datset"
   ]
  },
  {
   "cell_type": "code",
   "execution_count": null,
   "id": "ce8b5c17",
   "metadata": {},
   "outputs": [],
   "source": []
  },
  {
   "cell_type": "markdown",
   "id": "6e95313f",
   "metadata": {},
   "source": [
    "# Data Pre-processing"
   ]
  },
  {
   "cell_type": "markdown",
   "id": "ca728bc9",
   "metadata": {},
   "source": [
    "### LabelEncoder"
   ]
  },
  {
   "cell_type": "code",
   "execution_count": 9,
   "id": "2026e85c",
   "metadata": {},
   "outputs": [],
   "source": [
    "from sklearn.preprocessing import LabelEncoder\n",
    "\n",
    "le = LabelEncoder()\n",
    "le = le.fit(train_x['측정 시간대'])\n",
    "train_x['측정 시간대'] = le.transform(train_x['측정 시간대'])\n",
    "test_x['측정 시간대'] = le.transform(test_x['측정 시간대'])"
   ]
  },
  {
   "cell_type": "code",
   "execution_count": 10,
   "id": "3832231f",
   "metadata": {},
   "outputs": [
    {
     "data": {
      "text/html": [
       "<div>\n",
       "<style scoped>\n",
       "    .dataframe tbody tr th:only-of-type {\n",
       "        vertical-align: middle;\n",
       "    }\n",
       "\n",
       "    .dataframe tbody tr th {\n",
       "        vertical-align: top;\n",
       "    }\n",
       "\n",
       "    .dataframe thead th {\n",
       "        text-align: right;\n",
       "    }\n",
       "</style>\n",
       "<table border=\"1\" class=\"dataframe\">\n",
       "  <thead>\n",
       "    <tr style=\"text-align: right;\">\n",
       "      <th></th>\n",
       "      <th>월</th>\n",
       "      <th>일</th>\n",
       "      <th>측정 시간대</th>\n",
       "      <th>섭씨 온도(°⁣C)</th>\n",
       "      <th>절대 온도(K)</th>\n",
       "      <th>이슬점 온도(°C)</th>\n",
       "      <th>상대 습도 (%)</th>\n",
       "      <th>대기압(mbar)</th>\n",
       "      <th>포화 증기압(mbar)</th>\n",
       "      <th>실제 증기압(mbar)</th>\n",
       "      <th>증기압 부족량(mbar)</th>\n",
       "      <th>수증기 함량 (g/kg)</th>\n",
       "      <th>공기 밀도 (g/m**3)</th>\n",
       "      <th>풍향 (deg)</th>\n",
       "    </tr>\n",
       "  </thead>\n",
       "  <tbody>\n",
       "    <tr>\n",
       "      <th>0</th>\n",
       "      <td>7</td>\n",
       "      <td>2</td>\n",
       "      <td>3</td>\n",
       "      <td>13.97</td>\n",
       "      <td>287.78</td>\n",
       "      <td>9.84</td>\n",
       "      <td>76.10</td>\n",
       "      <td>992.08</td>\n",
       "      <td>15.98</td>\n",
       "      <td>12.16</td>\n",
       "      <td>3.82</td>\n",
       "      <td>7.66</td>\n",
       "      <td>1198.06</td>\n",
       "      <td>155.60</td>\n",
       "    </tr>\n",
       "    <tr>\n",
       "      <th>1</th>\n",
       "      <td>8</td>\n",
       "      <td>21</td>\n",
       "      <td>1</td>\n",
       "      <td>16.94</td>\n",
       "      <td>290.85</td>\n",
       "      <td>12.14</td>\n",
       "      <td>73.30</td>\n",
       "      <td>991.07</td>\n",
       "      <td>19.33</td>\n",
       "      <td>14.17</td>\n",
       "      <td>5.16</td>\n",
       "      <td>8.94</td>\n",
       "      <td>1183.67</td>\n",
       "      <td>177.00</td>\n",
       "    </tr>\n",
       "    <tr>\n",
       "      <th>2</th>\n",
       "      <td>11</td>\n",
       "      <td>1</td>\n",
       "      <td>3</td>\n",
       "      <td>9.76</td>\n",
       "      <td>283.84</td>\n",
       "      <td>5.40</td>\n",
       "      <td>74.20</td>\n",
       "      <td>988.71</td>\n",
       "      <td>12.10</td>\n",
       "      <td>8.98</td>\n",
       "      <td>3.12</td>\n",
       "      <td>5.67</td>\n",
       "      <td>1213.22</td>\n",
       "      <td>146.20</td>\n",
       "    </tr>\n",
       "    <tr>\n",
       "      <th>3</th>\n",
       "      <td>12</td>\n",
       "      <td>28</td>\n",
       "      <td>1</td>\n",
       "      <td>5.27</td>\n",
       "      <td>277.30</td>\n",
       "      <td>2.71</td>\n",
       "      <td>83.50</td>\n",
       "      <td>1014.25</td>\n",
       "      <td>8.89</td>\n",
       "      <td>7.43</td>\n",
       "      <td>1.47</td>\n",
       "      <td>4.57</td>\n",
       "      <td>1265.48</td>\n",
       "      <td>264.50</td>\n",
       "    </tr>\n",
       "    <tr>\n",
       "      <th>4</th>\n",
       "      <td>9</td>\n",
       "      <td>26</td>\n",
       "      <td>2</td>\n",
       "      <td>17.35</td>\n",
       "      <td>290.86</td>\n",
       "      <td>12.68</td>\n",
       "      <td>74.00</td>\n",
       "      <td>995.77</td>\n",
       "      <td>19.84</td>\n",
       "      <td>14.68</td>\n",
       "      <td>5.16</td>\n",
       "      <td>9.22</td>\n",
       "      <td>1187.40</td>\n",
       "      <td>19.34</td>\n",
       "    </tr>\n",
       "    <tr>\n",
       "      <th>...</th>\n",
       "      <td>...</td>\n",
       "      <td>...</td>\n",
       "      <td>...</td>\n",
       "      <td>...</td>\n",
       "      <td>...</td>\n",
       "      <td>...</td>\n",
       "      <td>...</td>\n",
       "      <td>...</td>\n",
       "      <td>...</td>\n",
       "      <td>...</td>\n",
       "      <td>...</td>\n",
       "      <td>...</td>\n",
       "      <td>...</td>\n",
       "      <td>...</td>\n",
       "    </tr>\n",
       "    <tr>\n",
       "      <th>36576</th>\n",
       "      <td>8</td>\n",
       "      <td>10</td>\n",
       "      <td>3</td>\n",
       "      <td>14.10</td>\n",
       "      <td>287.79</td>\n",
       "      <td>4.99</td>\n",
       "      <td>54.15</td>\n",
       "      <td>993.53</td>\n",
       "      <td>16.11</td>\n",
       "      <td>8.73</td>\n",
       "      <td>7.39</td>\n",
       "      <td>5.48</td>\n",
       "      <td>1200.85</td>\n",
       "      <td>292.90</td>\n",
       "    </tr>\n",
       "    <tr>\n",
       "      <th>36577</th>\n",
       "      <td>2</td>\n",
       "      <td>20</td>\n",
       "      <td>1</td>\n",
       "      <td>3.80</td>\n",
       "      <td>277.91</td>\n",
       "      <td>-1.01</td>\n",
       "      <td>70.70</td>\n",
       "      <td>988.03</td>\n",
       "      <td>8.02</td>\n",
       "      <td>5.67</td>\n",
       "      <td>2.35</td>\n",
       "      <td>3.58</td>\n",
       "      <td>1240.06</td>\n",
       "      <td>210.50</td>\n",
       "    </tr>\n",
       "    <tr>\n",
       "      <th>36578</th>\n",
       "      <td>5</td>\n",
       "      <td>29</td>\n",
       "      <td>3</td>\n",
       "      <td>20.06</td>\n",
       "      <td>295.10</td>\n",
       "      <td>16.70</td>\n",
       "      <td>81.00</td>\n",
       "      <td>977.90</td>\n",
       "      <td>23.51</td>\n",
       "      <td>19.04</td>\n",
       "      <td>4.47</td>\n",
       "      <td>12.20</td>\n",
       "      <td>1153.24</td>\n",
       "      <td>19.22</td>\n",
       "    </tr>\n",
       "    <tr>\n",
       "      <th>36579</th>\n",
       "      <td>9</td>\n",
       "      <td>10</td>\n",
       "      <td>3</td>\n",
       "      <td>25.65</td>\n",
       "      <td>299.81</td>\n",
       "      <td>15.30</td>\n",
       "      <td>52.81</td>\n",
       "      <td>988.39</td>\n",
       "      <td>32.98</td>\n",
       "      <td>17.41</td>\n",
       "      <td>15.56</td>\n",
       "      <td>11.03</td>\n",
       "      <td>1144.61</td>\n",
       "      <td>225.40</td>\n",
       "    </tr>\n",
       "    <tr>\n",
       "      <th>36580</th>\n",
       "      <td>3</td>\n",
       "      <td>11</td>\n",
       "      <td>1</td>\n",
       "      <td>3.14</td>\n",
       "      <td>276.30</td>\n",
       "      <td>1.88</td>\n",
       "      <td>91.40</td>\n",
       "      <td>1000.01</td>\n",
       "      <td>7.66</td>\n",
       "      <td>7.00</td>\n",
       "      <td>0.66</td>\n",
       "      <td>4.37</td>\n",
       "      <td>1257.47</td>\n",
       "      <td>30.67</td>\n",
       "    </tr>\n",
       "  </tbody>\n",
       "</table>\n",
       "<p>36581 rows × 14 columns</p>\n",
       "</div>"
      ],
      "text/plain": [
       "        월   일  측정 시간대  섭씨 온도(°⁣C)  절대 온도(K)  이슬점 온도(°C)  상대 습도 (%)  대기압(mbar)  \\\n",
       "0       7   2       3       13.97    287.78        9.84      76.10     992.08   \n",
       "1       8  21       1       16.94    290.85       12.14      73.30     991.07   \n",
       "2      11   1       3        9.76    283.84        5.40      74.20     988.71   \n",
       "3      12  28       1        5.27    277.30        2.71      83.50    1014.25   \n",
       "4       9  26       2       17.35    290.86       12.68      74.00     995.77   \n",
       "...    ..  ..     ...         ...       ...         ...        ...        ...   \n",
       "36576   8  10       3       14.10    287.79        4.99      54.15     993.53   \n",
       "36577   2  20       1        3.80    277.91       -1.01      70.70     988.03   \n",
       "36578   5  29       3       20.06    295.10       16.70      81.00     977.90   \n",
       "36579   9  10       3       25.65    299.81       15.30      52.81     988.39   \n",
       "36580   3  11       1        3.14    276.30        1.88      91.40    1000.01   \n",
       "\n",
       "       포화 증기압(mbar)  실제 증기압(mbar)  증기압 부족량(mbar)  수증기 함량 (g/kg)  \\\n",
       "0             15.98         12.16           3.82           7.66   \n",
       "1             19.33         14.17           5.16           8.94   \n",
       "2             12.10          8.98           3.12           5.67   \n",
       "3              8.89          7.43           1.47           4.57   \n",
       "4             19.84         14.68           5.16           9.22   \n",
       "...             ...           ...            ...            ...   \n",
       "36576         16.11          8.73           7.39           5.48   \n",
       "36577          8.02          5.67           2.35           3.58   \n",
       "36578         23.51         19.04           4.47          12.20   \n",
       "36579         32.98         17.41          15.56          11.03   \n",
       "36580          7.66          7.00           0.66           4.37   \n",
       "\n",
       "       공기 밀도 (g/m**3)  풍향 (deg)  \n",
       "0             1198.06    155.60  \n",
       "1             1183.67    177.00  \n",
       "2             1213.22    146.20  \n",
       "3             1265.48    264.50  \n",
       "4             1187.40     19.34  \n",
       "...               ...       ...  \n",
       "36576         1200.85    292.90  \n",
       "36577         1240.06    210.50  \n",
       "36578         1153.24     19.22  \n",
       "36579         1144.61    225.40  \n",
       "36580         1257.47     30.67  \n",
       "\n",
       "[36581 rows x 14 columns]"
      ]
     },
     "execution_count": 10,
     "metadata": {},
     "output_type": "execute_result"
    }
   ],
   "source": [
    "train_x"
   ]
  },
  {
   "cell_type": "code",
   "execution_count": null,
   "id": "34b15f11",
   "metadata": {},
   "outputs": [],
   "source": []
  },
  {
   "cell_type": "markdown",
   "id": "d884c058",
   "metadata": {},
   "source": [
    "### Column Drop"
   ]
  },
  {
   "cell_type": "markdown",
   "id": "858ce27f",
   "metadata": {},
   "source": [
    "중요도순\n",
    "\n",
    "풍향, 대기압, 일, 섭씨 온도, 이슬점 온도, 상대 습도, 월, 공기 밀도, 증기압 부족량, 측정 시간대, 절대 온도, 수증기 함량, 실제 증기압, 포화 증기압"
   ]
  },
  {
   "cell_type": "code",
   "execution_count": null,
   "id": "e5359df0",
   "metadata": {},
   "outputs": [],
   "source": []
  },
  {
   "cell_type": "code",
   "execution_count": null,
   "id": "0d8a7c31",
   "metadata": {},
   "outputs": [],
   "source": []
  },
  {
   "cell_type": "code",
   "execution_count": null,
   "id": "507f1c57",
   "metadata": {},
   "outputs": [],
   "source": []
  },
  {
   "cell_type": "markdown",
   "id": "4f036d7c",
   "metadata": {},
   "source": [
    "# Model Definition"
   ]
  },
  {
   "cell_type": "code",
   "execution_count": 11,
   "id": "efb15c23",
   "metadata": {},
   "outputs": [],
   "source": [
    "# from sklearn.tree import DecisionTreeRegressor\n",
    "# dt_clf = DecisionTreeRegressor(random_state=11) "
   ]
  },
  {
   "cell_type": "code",
   "execution_count": 12,
   "id": "2f09dd06",
   "metadata": {},
   "outputs": [],
   "source": [
    "xgb_model = XGBRegressor(random_state=11)"
   ]
  },
  {
   "cell_type": "code",
   "execution_count": null,
   "id": "e9cba62e",
   "metadata": {},
   "outputs": [],
   "source": []
  },
  {
   "cell_type": "markdown",
   "id": "b5dc3a16",
   "metadata": {},
   "source": [
    "# Hyperparameter Tuning"
   ]
  },
  {
   "cell_type": "code",
   "execution_count": 15,
   "id": "24157024",
   "metadata": {},
   "outputs": [],
   "source": [
    "# 탐색할 하이퍼파라미터 분포 설정\n",
    "param_dist = {\n",
    "    'n_estimators': randint(50, 200),                # 트리의 개수 (50~199 사이의 정수값 랜덤 선택)\n",
    "    'max_depth': randint(3, 11),                     # 트리의 최대 깊이 (3~10 사이의 정수값 랜덤 선택)\n",
    "    'learning_rate': uniform(0.001, 0.1),            # 학습률 (0.001~0.1 사이의 실수값 랜덤 선택)\n",
    "    'subsample': uniform(0.8, 0.2),                  # 데이터 샘플링 비율 (0.8~1.0 사이의 실수값 랜덤 선택)\n",
    "    'colsample_bytree': uniform(0.8, 0.2),           # 트리 생성에 사용할 피처의 비율 (0.8~1.0 사이의 실수값 랜덤 선택)\n",
    "}"
   ]
  },
  {
   "cell_type": "code",
   "execution_count": 17,
   "id": "9ba925f5",
   "metadata": {},
   "outputs": [
    {
     "data": {
      "text/plain": [
       "RandomizedSearchCV(cv=3,\n",
       "                   estimator=XGBRegressor(base_score=None, booster=None,\n",
       "                                          callbacks=None,\n",
       "                                          colsample_bylevel=None,\n",
       "                                          colsample_bynode=None,\n",
       "                                          colsample_bytree=None,\n",
       "                                          early_stopping_rounds=None,\n",
       "                                          enable_categorical=False,\n",
       "                                          eval_metric=None, feature_types=None,\n",
       "                                          gamma=None, gpu_id=None,\n",
       "                                          grow_policy=None,\n",
       "                                          importance_type=None,\n",
       "                                          interaction_constraints=None,\n",
       "                                          learning_rate=...\n",
       "                   param_distributions={'colsample_bytree': <scipy.stats._distn_infrastructure.rv_frozen object at 0x7f14bc566bb0>,\n",
       "                                        'learning_rate': <scipy.stats._distn_infrastructure.rv_frozen object at 0x7f14bc584d30>,\n",
       "                                        'max_depth': <scipy.stats._distn_infrastructure.rv_frozen object at 0x7f14bc4f6580>,\n",
       "                                        'n_estimators': <scipy.stats._distn_infrastructure.rv_frozen object at 0x7f14bccdfe50>,\n",
       "                                        'subsample': <scipy.stats._distn_infrastructure.rv_frozen object at 0x7f150421e250>})"
      ]
     },
     "execution_count": 17,
     "metadata": {},
     "output_type": "execute_result"
    }
   ],
   "source": [
    "# Grid Search 시작 시간 기록\n",
    "start_time = time.time()\n",
    "\n",
    "# RandomizedSearchCV를 사용하여 모델 튜닝\n",
    "random_search = RandomizedSearchCV(estimator=xgb_model, param_distributions=param_dist, n_iter=5, cv=3, n_jobs=-1)\n",
    "random_search.fit(train_x, train_y)\n",
    "\n",
    "# Grid Search 종료 시간 기록\n",
    "end_time = time.time()\n",
    "\n",
    "# 걸린 시간 계산\n",
    "elapsed_time = end_time - start_time\n",
    "\n",
    "# 걸린 시간 출력\n",
    "print(\"Grid Search elapsed time: {:.2f} seconds\".format(elapsed_time))"
   ]
  },
  {
   "cell_type": "code",
   "execution_count": 18,
   "id": "81eb6252",
   "metadata": {},
   "outputs": [
    {
     "name": "stdout",
     "output_type": "stream",
     "text": [
      "Best parameters found:  {'colsample_bytree': 0.8285733635843882, 'learning_rate': 0.06608884729488529, 'max_depth': 7, 'n_estimators': 51, 'subsample': 0.944399754453365}\n",
      "Best RMSE found: nan\n"
     ]
    }
   ],
   "source": [
    "# 최적의 하이퍼파라미터와 성능 출력\n",
    "print(\"Best parameters found: \", random_search.best_params_)\n",
    "print(\"Best RMSE found: {:.4f}\".format(np.sqrt(-random_search.best_score_)))"
   ]
  },
  {
   "cell_type": "markdown",
   "id": "3636cec7",
   "metadata": {},
   "source": [
    "# Model Fit"
   ]
  },
  {
   "cell_type": "code",
   "execution_count": 19,
   "id": "7a8ee540",
   "metadata": {},
   "outputs": [],
   "source": [
    "# dt_clf.fit(train_x , train_y) "
   ]
  },
  {
   "cell_type": "code",
   "execution_count": 20,
   "id": "cd544bc2",
   "metadata": {},
   "outputs": [],
   "source": [
    "# xgb_model.fit(train_x, train_y)\n",
    "# xgboost.plot_importance(xgb_model)"
   ]
  },
  {
   "cell_type": "code",
   "execution_count": 21,
   "id": "4a5c142f",
   "metadata": {},
   "outputs": [
    {
     "data": {
      "text/plain": [
       "XGBRegressor(base_score=None, booster=None, callbacks=None,\n",
       "             colsample_bylevel=None, colsample_bynode=None,\n",
       "             colsample_bytree=0.8285733635843882, early_stopping_rounds=None,\n",
       "             enable_categorical=False, eval_metric=None, feature_types=None,\n",
       "             gamma=None, gpu_id=None, grow_policy=None, importance_type=None,\n",
       "             interaction_constraints=None, learning_rate=0.06608884729488529,\n",
       "             max_bin=None, max_cat_threshold=None, max_cat_to_onehot=None,\n",
       "             max_delta_step=None, max_depth=7, max_leaves=None,\n",
       "             min_child_weight=None, missing=nan, monotone_constraints=None,\n",
       "             n_estimators=51, n_jobs=None, num_parallel_tree=None,\n",
       "             predictor=None, random_state=None, ...)"
      ]
     },
     "execution_count": 21,
     "metadata": {},
     "output_type": "execute_result"
    }
   ],
   "source": [
    "# 최적의 하이퍼파라미터로 모델 생성 및 훈련\n",
    "best_xgb_model = XGBRegressor(**random_search.best_params_)\n",
    "best_xgb_model.fit(train_x, train_y)"
   ]
  },
  {
   "cell_type": "code",
   "execution_count": 22,
   "id": "152ddc09",
   "metadata": {},
   "outputs": [
    {
     "data": {
      "text/plain": [
       "<AxesSubplot:title={'center':'Feature importance'}, xlabel='F score', ylabel='Features'>"
      ]
     },
     "execution_count": 22,
     "metadata": {},
     "output_type": "execute_result"
    },
    {
     "data": {
      "image/png": "[encoded data removed]",
      "text/plain": [
       "<Figure size 432x288 with 1 Axes>"
      ]
     },
     "metadata": {
      "needs_background": "light"
     },
     "output_type": "display_data"
    }
   ],
   "source": [
    "xgboost.plot_importance(best_xgb_model)"
   ]
  },
  {
   "cell_type": "markdown",
   "id": "2ef53edd",
   "metadata": {},
   "source": [
    "# Prediction"
   ]
  },
  {
   "cell_type": "code",
   "execution_count": 23,
   "id": "4ddb93c8",
   "metadata": {},
   "outputs": [],
   "source": [
    "# dt_pred = dt_clf.predict(test_x) "
   ]
  },
  {
   "cell_type": "code",
   "execution_count": 24,
   "id": "fab561ee",
   "metadata": {},
   "outputs": [],
   "source": [
    "# 테스트 데이터로 예측\n",
    "xgb_pred = best_xgb_model.predict(test_x)"
   ]
  },
  {
   "cell_type": "markdown",
   "id": "bcf75781",
   "metadata": {},
   "source": [
    "# Submit"
   ]
  },
  {
   "cell_type": "code",
   "execution_count": 25,
   "id": "ea067970",
   "metadata": {},
   "outputs": [],
   "source": [
    "submission = pd.read_csv('./data/sample_submission.csv')"
   ]
  },
  {
   "cell_type": "code",
   "execution_count": 26,
   "id": "2b51e3ac",
   "metadata": {},
   "outputs": [
    {
     "data": {
      "text/html": [
       "<div>\n",
       "<style scoped>\n",
       "    .dataframe tbody tr th:only-of-type {\n",
       "        vertical-align: middle;\n",
       "    }\n",
       "\n",
       "    .dataframe tbody tr th {\n",
       "        vertical-align: top;\n",
       "    }\n",
       "\n",
       "    .dataframe thead th {\n",
       "        text-align: right;\n",
       "    }\n",
       "</style>\n",
       "<table border=\"1\" class=\"dataframe\">\n",
       "  <thead>\n",
       "    <tr style=\"text-align: right;\">\n",
       "      <th></th>\n",
       "      <th>ID</th>\n",
       "      <th>풍속 (m/s)</th>\n",
       "    </tr>\n",
       "  </thead>\n",
       "  <tbody>\n",
       "    <tr>\n",
       "      <th>0</th>\n",
       "      <td>TEST_00000</td>\n",
       "      <td>1.902254</td>\n",
       "    </tr>\n",
       "    <tr>\n",
       "      <th>1</th>\n",
       "      <td>TEST_00001</td>\n",
       "      <td>1.156382</td>\n",
       "    </tr>\n",
       "    <tr>\n",
       "      <th>2</th>\n",
       "      <td>TEST_00002</td>\n",
       "      <td>1.589058</td>\n",
       "    </tr>\n",
       "    <tr>\n",
       "      <th>3</th>\n",
       "      <td>TEST_00003</td>\n",
       "      <td>1.322046</td>\n",
       "    </tr>\n",
       "    <tr>\n",
       "      <th>4</th>\n",
       "      <td>TEST_00004</td>\n",
       "      <td>1.834419</td>\n",
       "    </tr>\n",
       "  </tbody>\n",
       "</table>\n",
       "</div>"
      ],
      "text/plain": [
       "           ID  풍속 (m/s)\n",
       "0  TEST_00000  1.902254\n",
       "1  TEST_00001  1.156382\n",
       "2  TEST_00002  1.589058\n",
       "3  TEST_00003  1.322046\n",
       "4  TEST_00004  1.834419"
      ]
     },
     "execution_count": 26,
     "metadata": {},
     "output_type": "execute_result"
    }
   ],
   "source": [
    "submission['풍속 (m/s)'] = xgb_pred\n",
    "submission.head()"
   ]
  },
  {
   "cell_type": "code",
   "execution_count": 27,
   "id": "2759443c",
   "metadata": {},
   "outputs": [],
   "source": [
    "submission.to_csv('submission/submission_'+datetime.datetime.now().strftime(\"%Y%m%d%H%M\")+'.csv', index=  False)"
   ]
  },
  {
   "cell_type": "markdown",
   "id": "4925ebf8",
   "metadata": {},
   "source": [
    "//끝//"
   ]
  }
 ],
 "metadata": {
  "kernelspec": {
   "display_name": "Python 3 (ipykernel)",
   "language": "python",
   "name": "python3"
  },
  "language_info": {
   "codemirror_mode": {
    "name": "ipython",
    "version": 3
   },
   "file_extension": ".py",
   "mimetype": "text/x-python",
   "name": "python",
   "nbconvert_exporter": "python",
   "pygments_lexer": "ipython3",
   "version": "3.8.10"
  }
 },
 "nbformat": 4,
 "nbformat_minor": 5
}
